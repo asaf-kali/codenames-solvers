{
 "cells": [
  {
   "cell_type": "code",
   "execution_count": null,
   "metadata": {
    "collapsed": true
   },
   "outputs": [],
   "source": [
    "import os\n",
    "from logging import getLogger\n",
    "\n",
    "from codenames.game.manager import GameManager\n",
    "from codenames.solvers.naive.naive_guesser import NaiveGuesser  # noqa: E402\n",
    "from codenames.solvers.sna_hinter import SnaHinter  # noqa: E402\n",
    "from codenames.utils import configure_logging\n",
    "from language_data.model_loader import MODEL_NAME_ENV_KEY\n",
    "from playground.boards.english import ENGLISH_BOARD_1\n",
    "\n",
    "configure_logging()\n",
    "getLogger(\"matplotlib.font_manager\").disabled = True"
   ]
  },
  {
   "cell_type": "code",
   "execution_count": null,
   "outputs": [],
   "source": [
    "os.environ[MODEL_NAME_ENV_KEY] = \"wiki-50\"\n",
    "\n",
    "for i in range(10):\n",
    "    blue_hinter = SnaHinter(\"Leonardo\", debug_mode=False)\n",
    "    blue_guesser = NaiveGuesser(\"Bard\")\n",
    "    red_hinter = SnaHinter(\"Adam\", debug_mode=False)\n",
    "    red_guesser = NaiveGuesser(\"Eve\")\n",
    "    game_manager = GameManager(blue_hinter, red_hinter, blue_guesser, red_guesser)\n",
    "    game_manager.run_game(language=\"english\", board=ENGLISH_BOARD_1)"
   ],
   "metadata": {
    "collapsed": false,
    "pycharm": {
     "name": "#%%\n"
    }
   }
  }
 ],
 "metadata": {
  "kernelspec": {
   "display_name": "Python 3",
   "language": "python",
   "name": "python3"
  },
  "language_info": {
   "codemirror_mode": {
    "name": "ipython",
    "version": 2
   },
   "file_extension": ".py",
   "mimetype": "text/x-python",
   "name": "python",
   "nbconvert_exporter": "python",
   "pygments_lexer": "ipython2",
   "version": "2.7.6"
  }
 },
 "nbformat": 4,
 "nbformat_minor": 0
}