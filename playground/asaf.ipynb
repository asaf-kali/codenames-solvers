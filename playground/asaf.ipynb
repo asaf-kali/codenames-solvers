{
 "cells": [
  {
   "cell_type": "code",
   "execution_count": 1,
   "outputs": [],
   "source": [
    "import logging\n",
    "from time import sleep\n",
    "\n",
    "from codenames.game import QuitGame\n",
    "\n",
    "from playground.boards import *  # noqa\n",
    "from utils import configure_logging\n",
    "\n",
    "configure_logging()\n",
    "\n",
    "log = logging.getLogger(__name__)"
   ],
   "metadata": {
    "collapsed": false
   }
  },
  {
   "cell_type": "code",
   "execution_count": 23,
   "outputs": [],
   "source": [
    "from solvers.models import ModelIdentifier, HEBREW_SUFFIX_ADAPTER, load_model_async, DEFAULT_MODEL_ADAPTER\n",
    "from codenames.game import GameRunner\n",
    "from solvers.naive import NaiveHinter, NaiveGuesser\n",
    "\n",
    "model_id = ModelIdentifier(language=\"english\", model_name=\"wiki-50\", is_stemmed=False)\n",
    "# model_id = ModelIdentifier(\"english\", \"google-300\", False)\n",
    "# model_id = ModelIdentifier(\"hebrew\", \"twitter\", False)\n",
    "# model_id = ModelIdentifier(\"hebrew\", \"ft-200\", False)\n",
    "# model_id = ModelIdentifier(language=\"hebrew\", model_name=\"skv-ft-150\", is_stemmed=True)\n",
    "# model_id = ModelIdentifier(language=\"hebrew\", model_name=\"skv-cbow-150\", is_stemmed=True)\n",
    "# model_id = ModelIdentifier(\"hebrew\", \"skv-cbow-150\", True)\n",
    "\n",
    "# os.environ[MODEL_NAME_ENV_KEY] = model_id.model_name\n",
    "# os.environ[IS_STEMMED_ENV_KEY] = \"1\" if model_id.is_stemmed else \"\"\n",
    "adapter = HEBREW_SUFFIX_ADAPTER if model_id.language == \"hebrew\" and model_id.is_stemmed else DEFAULT_MODEL_ADAPTER\n",
    "load_model_async(model_id)\n",
    "\n",
    "blue_hinter = NaiveHinter(\"Leonardo\", model_identifier=model_id, model_adapter=adapter)\n",
    "blue_guesser = NaiveGuesser(\"Bard\", model_identifier=model_id, model_adapter=adapter)\n",
    "red_hinter = NaiveHinter(\"Adam\", model_identifier=model_id, model_adapter=adapter)\n",
    "red_guesser = NaiveGuesser(\"Eve\", model_identifier=model_id, model_adapter=adapter)\n",
    "\n",
    "game_runner = GameRunner(blue_hinter, red_hinter, blue_guesser, red_guesser)"
   ],
   "metadata": {
    "collapsed": false
   }
  },
  {
   "cell_type": "code",
   "execution_count": null,
   "outputs": [],
   "source": [
    "r = game_runner.run_game()"
   ],
   "metadata": {
    "collapsed": false
   }
  },
  {
   "cell_type": "code",
   "execution_count": 22,
   "outputs": [
    {
     "data": {
      "text/plain": "Winner(team_color=<TeamColor.RED: 'Red'>, reason=<WinningReason.TARGET_SCORE_REACHED: 'Target score reached'>)"
     },
     "execution_count": 22,
     "metadata": {},
     "output_type": "execute_result"
    }
   ],
   "source": [
    "# game_runner.run_game(language=\"english\", board=english_board)\n",
    "result = game_runner.run_game(language=\"hebrew\", board=HEBREW_BOARD_1)"
   ],
   "metadata": {
    "collapsed": false
   }
  },
  {
   "cell_type": "code",
   "execution_count": null,
   "outputs": [],
   "source": [
    "from codenames.online import NamecodingGameRunner, NamecodingLanguage\n",
    "\n",
    "online_runner = None\n",
    "try:\n",
    "    online_runner = NamecodingGameRunner(blue_hinter, red_hinter, blue_guesser, red_guesser)\n",
    "    online_runner.auto_start(language=NamecodingLanguage.ENGLISH, clock=False)\n",
    "    sleep(1)\n",
    "except QuitGame:\n",
    "    pass\n",
    "except Exception as e:  # noqa\n",
    "    log.exception(\"Error occurred\")\n",
    "finally:\n",
    "    if online_runner is not None:\n",
    "        log.info(f\"Winner: {online_runner.winner}\")\n",
    "        online_runner.close()\n",
    "log.info(\"Done\")"
   ],
   "metadata": {
    "collapsed": false
   }
  },
  {
   "cell_type": "code",
   "execution_count": 6,
   "outputs": [
    {
     "name": "stdout",
     "output_type": "stream",
     "text": [
      "Got 424 words\n",
      "Loading model language='hebrew' model_name='skv-cbow-30' is_stemmed=True\n",
      "Done with 0 errors\n"
     ]
    }
   ],
   "source": [
    "from solvers.utils.loader import load_model\n",
    "from codenames.boards.hebrew import *  # noqa\n",
    "\n",
    "# for word in HEBREW_WORDS:\n",
    "#     for other in HEBREW_WORDS:\n",
    "#         if word != other and editdistance.eval(word, other) <= 2 and abs(len(word) - len(other)) >= 2:\n",
    "#             print(f\"{word} {other}\")\n",
    "\n",
    "print(f\"Got {len(HEBREW_WORDS)} words\")\n",
    "model = load_model(model_id)\n",
    "errors = []\n",
    "for word in HEBREW_WORDS:\n",
    "    # log.info(\"Checking %s\", word)\n",
    "    try:\n",
    "        x = model[adapter.to_model_format(word)]\n",
    "    except Exception as e:\n",
    "        errors.append(word)\n",
    "print(\"Done with %d errors\" % len(errors))"
   ],
   "metadata": {
    "collapsed": false
   }
  },
  {
   "cell_type": "code",
   "execution_count": null,
   "outputs": [],
   "source": [],
   "metadata": {
    "collapsed": false
   }
  }
 ],
 "metadata": {
  "kernelspec": {
   "display_name": "Python 3",
   "language": "python",
   "name": "python3"
  },
  "language_info": {
   "codemirror_mode": {
    "name": "ipython",
    "version": 2
   },
   "file_extension": ".py",
   "mimetype": "text/x-python",
   "name": "python",
   "nbconvert_exporter": "python",
   "pygments_lexer": "ipython2",
   "version": "2.7.6"
  }
 },
 "nbformat": 4,
 "nbformat_minor": 0
}
