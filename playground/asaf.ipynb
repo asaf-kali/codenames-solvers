{
 "cells": [
  {
   "cell_type": "code",
   "execution_count": 6,
   "outputs": [
    {
     "name": "stdout",
     "output_type": "stream",
     "text": [
      "/home/akali/projects\n"
     ]
    }
   ],
   "source": [
    "% cd \"../\""
   ],
   "metadata": {
    "collapsed": false,
    "pycharm": {
     "name": "#%%\n"
    }
   }
  },
  {
   "cell_type": "code",
   "execution_count": 7,
   "outputs": [
    {
     "name": "stdout",
     "output_type": "stream",
     "text": [
      "/home/akali/projects/codenames\n"
     ]
    }
   ],
   "source": [
    "% cd \"codenames\""
   ],
   "metadata": {
    "collapsed": false,
    "pycharm": {
     "name": "#%%\n"
    }
   }
  },
  {
   "cell_type": "code",
   "execution_count": 1,
   "outputs": [
    {
     "name": "stdout",
     "output_type": "stream",
     "text": [
      "Logging configured\n"
     ]
    }
   ],
   "source": [
    "import logging\n",
    "from time import sleep\n",
    "\n",
    "from codenames.game import QuitGame\n",
    "from playground.boards import *  # noqa\n",
    "from utils import configure_logging\n",
    "\n",
    "configure_logging()\n",
    "\n",
    "log = logging.getLogger(__name__)"
   ],
   "metadata": {
    "collapsed": false,
    "pycharm": {
     "name": "#%%\n"
    }
   }
  },
  {
   "cell_type": "code",
   "execution_count": 3,
   "outputs": [
    {
     "name": "stdout",
     "output_type": "stream",
     "text": [
      "Loading model language='hebrew' model_name='skv-cbow-30' is_stemmed=True\n",
      "Loading model... {'model': ModelIdentifier(language='hebrew', model_name='skv-cbow-30', is_stemmed=True)}\n",
      "loading KeyedVectors object from /home/akali/.cache/language_data/hebrew/skv-cbow-30/model.kv\n",
      "{'uri': '/home/akali/.cache/language_data/hebrew/skv-cbow-30/model.kv', 'mode': 'rb', 'buffering': -1, 'encoding': None, 'errors': None, 'newline': None, 'closefd': True, 'opener': None, 'ignore_ext': False, 'compression': None, 'transport_params': None}\n"
     ]
    }
   ],
   "source": [
    "from codenames.game import DEFAULT_MODEL_ADAPTER\n",
    "from codenames.game.runner import GameRunner\n",
    "from codenames.utils.loader.model_loader import ModelIdentifier, load_model_async\n",
    "from codenames.utils.model_adapters import HEBREW_SUFFIX_ADAPTER\n",
    "from codenames.solvers import NaiveHinter, NaiveGuesser\n",
    "\n",
    "# model_id = ModelIdentifier(\"english\", \"wiki-50\", False)\n",
    "# model_id = ModelIdentifier(\"english\", \"google-300\", False)\n",
    "# model_id = ModelIdentifier(\"hebrew\", \"twitter\", False)\n",
    "# model_id = ModelIdentifier(\"hebrew\", \"ft-200\", False)\n",
    "# model_id = ModelIdentifier(language=\"hebrew\", model_name=\"skv-ft-150\", is_stemmed=True)\n",
    "model_id = ModelIdentifier(language=\"hebrew\", model_name=\"skv-cbow-30\", is_stemmed=True)\n",
    "# model_id = ModelIdentifier(\"hebrew\", \"skv-cbow-150\", True)\n",
    "\n",
    "# os.environ[MODEL_NAME_ENV_KEY] = model_id.model_name\n",
    "# os.environ[IS_STEMMED_ENV_KEY] = \"1\" if model_id.is_stemmed else \"\"\n",
    "adapter = HEBREW_SUFFIX_ADAPTER if model_id.language == \"hebrew\" and model_id.is_stemmed else DEFAULT_MODEL_ADAPTER\n",
    "load_model_async(model_id)\n",
    "\n",
    "blue_hinter = NaiveHinter(\"Leonardo\", model_identifier=model_id, model_adapter=adapter)\n",
    "blue_guesser = NaiveGuesser(\"Bard\", model_identifier=model_id, model_adapter=adapter)\n",
    "red_hinter = NaiveHinter(\"Adam\", model_identifier=model_id, model_adapter=adapter)\n",
    "red_guesser = NaiveGuesser(\"Eve\", model_identifier=model_id, model_adapter=adapter)\n",
    "\n",
    "game_runner = GameRunner(blue_hinter, red_hinter, blue_guesser, red_guesser)"
   ],
   "metadata": {
    "collapsed": false,
    "pycharm": {
     "name": "#%%\n"
    }
   }
  },
  {
   "cell_type": "code",
   "execution_count": 6,
   "outputs": [
    {
     "name": "stdout",
     "output_type": "stream",
     "text": [
      "Loading model language='hebrew' model_name='skv-ft-150' is_stemmed=True\n",
      "Loading model language='hebrew' model_name='skv-ft-150' is_stemmed=True\n",
      "Loading model language='hebrew' model_name='skv-ft-150' is_stemmed=True\n",
      "Loading model language='hebrew' model_name='skv-ft-150' is_stemmed=True\n",
      "\n",
      "-----\n",
      "[Blue] turn.\n",
      "Creating proposals for group size [4]...\n",
      "Waiting for task manager to finish...\n",
      "Creating proposals for group size [3]...\n",
      "Waiting for task manager to finish...\n",
      "Creating proposals for group size [2]...\n",
      "Waiting for task manager to finish...\n",
      "Creating proposals for group size [1]...\n",
      "Waiting for task manager to finish...\n",
      "Got 38 proposals.\n",
      "Best 5 proposals: \n",
      "('קברנ', 'אדמ') = ('המת', 6.76)\n",
      "('שלמ', 'יקומ') = ('אינסוף', 6.49)\n",
      "('קברנ', 'זכוכית') = ('סרקופג', 6.49)\n",
      "('קברנ',) = ('קבור', 6.29)\n",
      "('שלמ', 'דרור') = ('שלמון', 6.28)\n",
      "Picked proposal: Proposal(word_group=('קברנ', 'אדמ'), hint_word=המת, hint_word_frequency=0.939, distance_group=0.313, distance_gray=0.490, distance_opponent=0.399, distance_black=0.559, grade=6.757)\n",
      "Hinter: [המת] 2 card(s)\n",
      "Naive guesser thinks 'המת' means 'קברן'.\n",
      "Guesser: '🟦 קברן', Correct!\n",
      "Naive guesser thinks 'המת' means 'אדם'.\n",
      "Guesser: '🟦 אדם', Correct!\n",
      "Giving bonus guess!\n",
      "Naive guesser does not take bonuses.\n",
      "Guesser passed the turn\n",
      "\n",
      "-----\n",
      "[Red] turn.\n",
      "Creating proposals for group size [4]...\n",
      "Waiting for task manager to finish...\n",
      "Creating proposals for group size [3]...\n",
      "Waiting for task manager to finish...\n",
      "Creating proposals for group size [2]...\n",
      "Waiting for task manager to finish...\n",
      "Creating proposals for group size [1]...\n",
      "Waiting for task manager to finish...\n",
      "Got 58 proposals.\n",
      "Best 5 proposals: \n",
      "('כבש', 'נחת', 'ניצחונ') = ('הובקע', 7.90)\n",
      "('כבש', 'נחת') = ('תקף', 6.99)\n",
      "('כבש', 'ניצחונ') = ('הביס', 6.95)\n",
      "('כבש', 'נחת') = ('נהדפו', 6.80)\n",
      "('כבש', 'ניצחונ') = ('הבקיע', 6.78)\n",
      "Picked proposal: Proposal(word_group=('כבש', 'נחת', 'ניצחונ'), hint_word=הובקע, hint_word_frequency=0.822, distance_group=0.312, distance_gray=0.350, distance_opponent=0.495, distance_black=0.458, grade=7.899)\n",
      "Hinter: [הובקע] 3 card(s)\n",
      "Naive guesser thinks 'הובקע' means 'כבש'.\n",
      "Guesser: '🟥 כבש', Correct!\n",
      "Naive guesser thinks 'הובקע' means 'נחת'.\n",
      "Guesser: '🟥 נחת', Correct!\n",
      "Naive guesser thinks 'הובקע' means 'ניצחון'.\n",
      "Guesser: '🟥 ניצחון', Correct!\n",
      "Giving bonus guess!\n",
      "Naive guesser does not take bonuses.\n",
      "Guesser passed the turn\n",
      "\n",
      "-----\n",
      "[Blue] turn.\n",
      "Creating proposals for group size [4]...\n",
      "Waiting for task manager to finish...\n",
      "Creating proposals for group size [3]...\n",
      "Waiting for task manager to finish...\n",
      "Creating proposals for group size [2]...\n",
      "Waiting for task manager to finish...\n",
      "Creating proposals for group size [1]...\n",
      "Waiting for task manager to finish...\n",
      "Got 27 proposals.\n",
      "Best 5 proposals: \n",
      "('שלמ', 'יקומ') = ('אינסוף', 6.49)\n",
      "('שלמ', 'דרור') = ('שלמון', 6.28)\n",
      "('שיר',) = ('פזמון', 5.75)\n",
      "('עלילה',) = ('סיפור', 5.60)\n",
      "('דרור',) = ('נעם', 5.53)\n",
      "Picked proposal: Proposal(word_group=('שלמ', 'יקומ'), hint_word=אינסוף, hint_word_frequency=0.959, distance_group=0.287, distance_gray=0.352, distance_opponent=0.390, distance_black=0.479, grade=6.490)\n",
      "Hinter: [אינסוף] 2 card(s)\n",
      "Naive guesser thinks 'אינסוף' means 'יקום'.\n",
      "Guesser: '🟦 יקום', Correct!\n",
      "Naive guesser thinks 'אינסוף' means 'שלם'.\n",
      "Guesser: '🟦 שלם', Correct!\n",
      "Giving bonus guess!\n",
      "Naive guesser does not take bonuses.\n",
      "Guesser passed the turn\n",
      "\n",
      "-----\n",
      "[Red] turn.\n",
      "Creating proposals for group size [4]...\n",
      "Waiting for task manager to finish...\n",
      "Creating proposals for group size [3]...\n",
      "Waiting for task manager to finish...\n",
      "Creating proposals for group size [2]...\n",
      "Waiting for task manager to finish...\n",
      "Creating proposals for group size [1]...\n",
      "Waiting for task manager to finish...\n",
      "Got 33 proposals.\n",
      "Best 5 proposals: \n",
      "('דק', 'חייזר') = ('דמוי', 6.63)\n",
      "('מעטפת', 'דק') = ('קשיח', 6.58)\n",
      "('מעטפת', 'דק') = ('לוע', 6.57)\n",
      "('מעטפת', 'דק') = ('עבה', 6.47)\n",
      "('דק', 'חייזר') = ('תול', 6.44)\n",
      "Picked proposal: Proposal(word_group=('דק', 'חייזר'), hint_word=דמוי, hint_word_frequency=0.973, distance_group=0.260, distance_gray=0.399, distance_opponent=0.280, distance_black=0.543, grade=6.626)\n",
      "Hinter: [דמוי] 2 card(s)\n",
      "Naive guesser thinks 'דמוי' means 'דק'.\n",
      "Guesser: '🟥 דק', Correct!\n",
      "Naive guesser thinks 'דמוי' means 'חייזר'.\n",
      "Guesser: '🟥 חייזר', Correct!\n",
      "Giving bonus guess!\n",
      "Naive guesser does not take bonuses.\n",
      "Guesser passed the turn\n",
      "\n",
      "-----\n",
      "[Blue] turn.\n",
      "Creating proposals for group size [4]...\n",
      "Waiting for task manager to finish...\n",
      "Creating proposals for group size [3]...\n",
      "Waiting for task manager to finish...\n",
      "Creating proposals for group size [2]...\n",
      "Waiting for task manager to finish...\n",
      "Creating proposals for group size [1]...\n",
      "Waiting for task manager to finish...\n",
      "Got 22 proposals.\n",
      "Best 5 proposals: \n",
      "('שיר',) = ('פזמון', 5.75)\n",
      "('עלילה',) = ('סיפור', 5.73)\n",
      "('דרור',) = ('נעם', 5.53)\n",
      "('דרור',) = ('ניר', 5.52)\n",
      "('דרור',) = ('שמואלי', 5.51)\n",
      "Picked proposal: Proposal(word_group=('שיר',), hint_word=פזמון, hint_word_frequency=0.954, distance_group=0.113, distance_gray=0.354, distance_opponent=0.476, distance_black=0.506, grade=5.746)\n",
      "Hinter: [פזמון] 1 card(s)\n",
      "Naive guesser thinks 'פזמון' means 'שיר'.\n",
      "Guesser: '🟦 שיר', Correct!\n",
      "Giving bonus guess!\n",
      "Naive guesser does not take bonuses.\n",
      "Guesser passed the turn\n",
      "\n",
      "-----\n",
      "[Red] turn.\n",
      "Creating proposals for group size [4]...\n",
      "Waiting for task manager to finish...\n",
      "Creating proposals for group size [3]...\n",
      "Waiting for task manager to finish...\n",
      "Creating proposals for group size [2]...\n",
      "Waiting for task manager to finish...\n",
      "Creating proposals for group size [1]...\n",
      "Waiting for task manager to finish...\n",
      "Got 12 proposals.\n",
      "Best 5 proposals: \n",
      "('יוגה',) = ('מדיטציה', 5.59)\n",
      "('יוגה',) = ('תרגול', 5.48)\n",
      "('יוגה',) = ('בודהיזם', 5.34)\n",
      "('מעטפת',) = ('שכבת', 5.15)\n",
      "('מעטפת',) = ('שכבה', 5.14)\n",
      "Picked proposal: Proposal(word_group=('יוגה',), hint_word=מדיטציה, hint_word_frequency=0.893, distance_group=0.135, distance_gray=0.314, distance_opponent=0.467, distance_black=0.536, grade=5.591)\n",
      "Hinter: [מדיטציה] 1 card(s)\n",
      "Naive guesser thinks 'מדיטציה' means 'יוגה'.\n",
      "Guesser: '🟥 יוגה', Correct!\n",
      "Giving bonus guess!\n",
      "Naive guesser does not take bonuses.\n",
      "Guesser passed the turn\n",
      "\n",
      "-----\n",
      "[Blue] turn.\n",
      "Creating proposals for group size [4]...\n",
      "Waiting for task manager to finish...\n",
      "Creating proposals for group size [3]...\n",
      "Waiting for task manager to finish...\n",
      "Creating proposals for group size [2]...\n",
      "Waiting for task manager to finish...\n",
      "Creating proposals for group size [1]...\n",
      "Waiting for task manager to finish...\n",
      "Got 21 proposals.\n",
      "Best 5 proposals: \n",
      "('עלילה',) = ('סיפור', 5.87)\n",
      "('דרור',) = ('נעם', 5.80)\n",
      "('דרור',) = ('שמואלי', 5.69)\n",
      "('דרור',) = ('אורי', 5.68)\n",
      "('דרור',) = ('נדב', 5.59)\n",
      "Picked proposal: Proposal(word_group=('עלילה',), hint_word=סיפור, hint_word_frequency=0.998, distance_group=0.194, distance_gray=0.413, distance_opponent=0.521, distance_black=0.565, grade=5.868)\n",
      "Hinter: [סיפור] 1 card(s)\n",
      "Naive guesser thinks 'סיפור' means 'עלילה'.\n",
      "Guesser: '🟦 עלילה', Correct!\n",
      "Giving bonus guess!\n",
      "Naive guesser does not take bonuses.\n",
      "Guesser passed the turn\n",
      "\n",
      "-----\n",
      "[Red] turn.\n",
      "Creating proposals for group size [4]...\n",
      "Waiting for task manager to finish...\n",
      "Creating proposals for group size [3]...\n",
      "Waiting for task manager to finish...\n",
      "Creating proposals for group size [2]...\n",
      "Waiting for task manager to finish...\n",
      "Creating proposals for group size [1]...\n",
      "Waiting for task manager to finish...\n",
      "Got 9 proposals.\n",
      "Best 5 proposals: \n",
      "('מעטפת',) = ('שכבת', 5.15)\n",
      "('מעטפת',) = ('שכבה', 5.14)\n",
      "('חשמל',) = ('צנרת', 4.82)\n",
      "('מעטפת',) = ('האטמוספירה', 4.80)\n",
      "('חשמל',) = ('גנרטור', 4.75)\n",
      "Picked proposal: Proposal(word_group=('מעטפת',), hint_word=שכבת, hint_word_frequency=0.964, distance_group=0.151, distance_gray=0.371, distance_opponent=0.281, distance_black=0.469, grade=5.146)\n",
      "Hinter: [שכבת] 1 card(s)\n",
      "Naive guesser thinks 'שכבת' means 'מעטפת'.\n",
      "Guesser: '🟥 מעטפת', Correct!\n",
      "Giving bonus guess!\n",
      "Naive guesser does not take bonuses.\n",
      "Guesser passed the turn\n",
      "\n",
      "-----\n",
      "[Blue] turn.\n",
      "Creating proposals for group size [4]...\n",
      "Waiting for task manager to finish...\n",
      "Creating proposals for group size [3]...\n",
      "Waiting for task manager to finish...\n",
      "Creating proposals for group size [2]...\n",
      "Waiting for task manager to finish...\n",
      "Creating proposals for group size [1]...\n",
      "Waiting for task manager to finish...\n",
      "Got 20 proposals.\n",
      "Best 5 proposals: \n",
      "('זכוכית', 'מטענ') = ('מתכת', 6.33)\n",
      "('זכוכית', 'מטענ') = ('אלומיניום', 5.92)\n",
      "('דרור',) = ('נעם', 5.80)\n",
      "('דרור',) = ('שמואלי', 5.69)\n",
      "('דרור',) = ('אורי', 5.68)\n",
      "Picked proposal: Proposal(word_group=('זכוכית', 'מטענ'), hint_word=מתכת, hint_word_frequency=0.977, distance_group=0.293, distance_gray=0.326, distance_opponent=0.314, distance_black=0.482, grade=6.331)\n",
      "Hinter: [מתכת] 2 card(s)\n",
      "Naive guesser thinks 'מתכת' means 'זכוכית'.\n",
      "Guesser: '🟦 זכוכית', Correct!\n",
      "Naive guesser thinks 'מתכת' means 'מטען'.\n",
      "Guesser: '🟦 מטען', Correct!\n",
      "Giving bonus guess!\n",
      "Naive guesser does not take bonuses.\n",
      "Guesser passed the turn\n",
      "\n",
      "-----\n",
      "[Red] turn.\n",
      "Creating proposals for group size [4]...\n",
      "Waiting for task manager to finish...\n",
      "Creating proposals for group size [3]...\n",
      "Waiting for task manager to finish...\n",
      "Creating proposals for group size [2]...\n",
      "Waiting for task manager to finish...\n",
      "Creating proposals for group size [1]...\n",
      "Waiting for task manager to finish...\n",
      "Got 5 proposals.\n",
      "Best 5 proposals: \n",
      "('חשמל',) = ('גנרטור', 5.21)\n",
      "('חשמל',) = ('דלק', 5.13)\n",
      "('חשמל',) = ('צנרת', 5.12)\n",
      "('חשמל',) = ('הידרואלקטרי', 4.90)\n",
      "('חשמל',) = ('הידרואלקטרית', 4.80)\n",
      "Picked proposal: Proposal(word_group=('חשמל',), hint_word=גנרטור, hint_word_frequency=0.867, distance_group=0.172, distance_gray=0.247, distance_opponent=0.501, distance_black=0.468, grade=5.213)\n",
      "Hinter: [גנרטור] 1 card(s)\n",
      "Naive guesser thinks 'גנרטור' means 'חשמל'.\n",
      "Guesser: '🟥 חשמל', Correct!\n",
      "Winner found, turn is over\n",
      "\n",
      "-----\n",
      "Target score reached, [Red] team wins!\n"
     ]
    },
    {
     "data": {
      "text/plain": "Winner(team_color=<TeamColor.RED: 'Red'>, reason=<WinningReason.TARGET_SCORE_REACHED: 'Target score reached'>)"
     },
     "execution_count": 6,
     "metadata": {},
     "output_type": "execute_result"
    }
   ],
   "source": [
    "# game_runner.run_game(language=\"english\", board=english_board)\n",
    "game_runner.run_game(language=\"hebrew\", board=HEBREW_BOARD_1)"
   ],
   "metadata": {
    "collapsed": false,
    "pycharm": {
     "name": "#%%\n"
    }
   }
  },
  {
   "cell_type": "code",
   "execution_count": null,
   "outputs": [],
   "source": [
    "from codenames.online import NamecodingGameRunner, NamecodingLanguage\n",
    "\n",
    "online_runner = None\n",
    "try:\n",
    "    online_runner = NamecodingGameRunner(blue_hinter, red_hinter, blue_guesser, red_guesser)\n",
    "    online_runner.auto_start(language=NamecodingLanguage.ENGLISH, clock=False)\n",
    "    sleep(1)\n",
    "except QuitGame:\n",
    "    pass\n",
    "except Exception as e:  # noqa\n",
    "    log.exception(\"Error occurred\")\n",
    "finally:\n",
    "    if online_runner is not None:\n",
    "        log.info(f\"Winner: {online_runner.winner}\")\n",
    "        online_runner.close()\n",
    "log.info(\"Done\")"
   ],
   "metadata": {
    "collapsed": false,
    "pycharm": {
     "name": "#%%\n"
    }
   }
  },
  {
   "cell_type": "code",
   "execution_count": 6,
   "outputs": [
    {
     "name": "stdout",
     "output_type": "stream",
     "text": [
      "Got 424 words\n",
      "Loading model language='hebrew' model_name='skv-cbow-30' is_stemmed=True\n",
      "Done with 0 errors\n"
     ]
    }
   ],
   "source": [
    "from codenames.utils.loader.model_loader import load_model\n",
    "from codenames.boards.hebrew import *  # noqa\n",
    "\n",
    "# for word in HEBREW_WORDS:\n",
    "#     for other in HEBREW_WORDS:\n",
    "#         if word != other and editdistance.eval(word, other) <= 2 and abs(len(word) - len(other)) >= 2:\n",
    "#             print(f\"{word} {other}\")\n",
    "\n",
    "print(f\"Got {len(HEBREW_WORDS)} words\")\n",
    "model = load_model(model_id)\n",
    "errors = []\n",
    "for word in HEBREW_WORDS:\n",
    "    # log.info(\"Checking %s\", word)\n",
    "    try:\n",
    "        x = model[adapter.to_model_format(word)]\n",
    "    except Exception as e:\n",
    "        errors.append(word)\n",
    "print(\"Done with %d errors\" % len(errors))"
   ],
   "metadata": {
    "collapsed": false,
    "pycharm": {
     "name": "#%%\n"
    }
   }
  },
  {
   "cell_type": "code",
   "execution_count": null,
   "outputs": [],
   "source": [],
   "metadata": {
    "collapsed": false,
    "pycharm": {
     "name": "#%%\n"
    }
   }
  }
 ],
 "metadata": {
  "kernelspec": {
   "display_name": "Python 3",
   "language": "python",
   "name": "python3"
  },
  "language_info": {
   "codemirror_mode": {
    "name": "ipython",
    "version": 2
   },
   "file_extension": ".py",
   "mimetype": "text/x-python",
   "name": "python",
   "nbconvert_exporter": "python",
   "pygments_lexer": "ipython2",
   "version": "2.7.6"
  }
 },
 "nbformat": 4,
 "nbformat_minor": 0
}
