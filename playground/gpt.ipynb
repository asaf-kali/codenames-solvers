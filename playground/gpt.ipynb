{
 "cells": [
  {
   "cell_type": "code",
   "execution_count": 5,
   "metadata": {
    "collapsed": false
   },
   "outputs": [],
   "source": [
    "# Load env vars\n",
    "import os\n",
    "\n",
    "with open(\"local.env\") as f:\n",
    "    for line in f:\n",
    "        var = line.strip().split(\"=\")\n",
    "        os.environ[var[0]] = var[1]"
   ]
  },
  {
   "cell_type": "code",
   "execution_count": 37,
   "metadata": {},
   "outputs": [],
   "source": [
    "# Config\n",
    "import openai\n",
    "\n",
    "openai.api_key = os.getenv(\"OPENAI_API_KEY\")\n",
    "model_id = \"gpt-3.5-turbo\""
   ]
  },
  {
   "cell_type": "code",
   "execution_count": 78,
   "metadata": {
    "collapsed": false
   },
   "outputs": [],
   "source": [
    "# Consts\n",
    "full_instructions = \"\"\"You are a chatbot playing the Codenames board game. Players are split into two teams: blue and red. One player in each team is selected as the team's spymaster (the Hinter); the rest become field operatives (Guessers).\n",
    "Twenty-five codename cards, each bearing a word, are laid out in a 5×5 grid in random order. A number of these words represent blue agents, a number represent red agents, one represents an assassin, and the rest represent innocent bystanders. The teams' spymasters are given a randomly-dealt key card showing a 5×5 grid of 25 squares of various colors, each corresponding to one of the codename cards on the table.\n",
    "On each turn, the appropriate spymaster gives a verbal hint about the words on the respective cards. Each hint may only consist of one single word and a number. The clue has to be related to as many of the words on the team's own agents' cards as possible, but not to any others – lest the words accidentally lead them to choose a card representing an innocent bystander, an opposing agent, or the assassin. The clue word can be chosen freely, as long as it is not (and does not contain, nor is contained in) any of the words on the codename cards still visible at the time. Codename cards are covered as guesses, correct or otherwise, are made.\n",
    "The number in the hint tells the field operatives how many words in the grid are related to the clue word. It also determines the maximum number of guesses the field operatives may make on that turn, which is the stated number plus one. The field operatives of a team are required to make at least one guess per turn, risking a wrong guess and its consequences. If their first guess is right, the field operatives may continue to make guesses until they reach the guess limit or make a wrong guess, or they can instead choose to end their turn voluntarily.\n",
    "After a spymaster gives a clue with its word and number, their field operatives make guesses about which codename cards bear words related to the clue and point them out, one at a time. When a codename card is pointed out, the spymaster covers that card with an appropriate identity card – a blue agent, a red agent, an innocent bystander, or the assassin – as indicated on the spymasters' map of the grid. Revealing an opposing agent ends the team's turn, as does revealing an innocent bystander, though in the former case, the opposing team also gets a small advantage before the start of their turn as a result. If the assassin is revealed, the game ends immediately with a loss for the team who identified him.\n",
    "Besides the aforementioned assassin, the game ends when all agents belonging to one team are identified, winning the game for that team.\"\"\"\n",
    "short_instructions = \"\"\"Codenames is a board game where two teams, red and blue, compete against each other. Each team has a spymaster who gives hints to their field operatives about which codename cards on the table belong to their team's agents. The goal is to identify all the agents of their respective team before the other team does so. The 25 codename cards are laid out, each card bearing a word representing a blue agent, a red agent, an innocent bystander, or the assassin.\n",
    "The spymaster gives a verbal hint consisting of one word and a number that indicates the number of codename cards related to the hint. The field operatives must then guess which cards belong to their team's agents and point them out one at a time. The spymaster covers each guessed card with an appropriate identity card. If the operatives guess correctly, they may continue to guess until they reach the guess limit or make a wrong guess. If they guess incorrectly, the turn ends, and play moves to the other team.\n",
    "The game ends when all agents belonging to one team are identified, winning the game for that team. However, revealing the assassin immediately ends the game with a loss for the team who identified him. If an opposing agent or innocent bystander is identified, the turn ends, and the other team gains a small advantage before starting their turn. The spymaster's hints cannot contain any of the words on the codename cards still visible, and the game continues until one team wins or the assassin is revealed.\"\"\"\n",
    "turn_command = \"\"\"Please provide a valid hint, along with the words your hint is referring to, in JSON format: `{\"word\": <hint_word>, \"referred_cards\": <list_of_cards>}`.\n",
    "Try to refer at least 2 cards, and only refer 4 cards if you think the hint represent these words well.\"\"\""
   ]
  },
  {
   "cell_type": "code",
   "execution_count": 90,
   "metadata": {
    "collapsed": false
   },
   "outputs": [],
   "source": [
    "from codenames.game import Board, CardColor, GivenHint, TeamColor\n",
    "from playground.boards import ENGLISH_BOARD_1\n",
    "from typing import List, Optional\n",
    "\n",
    "\n",
    "def build_board_prompt_repr(board: Board) -> str:\n",
    "    words = [f\"{card.word}-{card.color}\" for card in board.cards]\n",
    "    joined = \", \".join(words)\n",
    "    return f\"Board cards: {joined}.\"\n",
    "\n",
    "\n",
    "def build_score_repr(board: Board) -> str:\n",
    "    total_red, total_blue_cards = len(board.red_cards), len(board.blue_cards)  # type: ignore\n",
    "    unrevealed_red = len(board.unrevealed_cards_for_color(CardColor.RED))\n",
    "    unrevealed_blue = len(board.unrevealed_cards_for_color(CardColor.BLUE))\n",
    "    return f\"The current score status is: Red: {total_red - unrevealed_red}/{total_red}, Blue: {total_blue_cards - unrevealed_blue}/{total_blue_cards}.\"\n",
    "\n",
    "\n",
    "def build_disallowed_hints_repr(board: Board, hints: List[GivenHint], extra: Optional[List[str]] = None) -> str:\n",
    "    extra = extra or []\n",
    "    words = [card.word for card in board.revealed_cards] + [hint.word for hint in hints] + extra\n",
    "    if not words:\n",
    "        return \"\"\n",
    "    return f\"The following expressions are NOT legal hints: {', '.join(words)}.\"\n",
    "\n",
    "\n",
    "def build_cards_to_avoid_repr(board: Board, team_color: TeamColor) -> str:\n",
    "    filter_card_color = team_color.as_card_color\n",
    "    words = [card.word for card in board.unrevealed_cards if card.color != filter_card_color]\n",
    "    return f\"Avoid giving a hint that is related to any of these words: {', '.join(words)}.\"\n",
    "\n",
    "\n",
    "def build_assassin_repr(board: Board) -> str:\n",
    "    words = [card.word for card in board.unrevealed_cards if card.color == CardColor.BLACK]\n",
    "    return f\"The assassin is: {', '.join(words)}, avoid this word at all costs.\"\n",
    "\n",
    "\n",
    "def build_allowed_cards_repr(board: Board, team_color: TeamColor) -> str:\n",
    "    words = [card.word for card in board.unrevealed_cards_for_color(team_color.as_card_color)]\n",
    "    return f\"These are the words you are looking for hints to: {', '.join(words)}.\""
   ]
  },
  {
   "cell_type": "code",
   "execution_count": 93,
   "metadata": {
    "collapsed": false
   },
   "outputs": [],
   "source": [
    "_board = ENGLISH_BOARD_1\n",
    "_team = TeamColor.BLUE\n",
    "# board_repr = build_board_prompt_repr(_board)\n",
    "team_prompt = f\"You are the {_team} team hinter.\"\n",
    "score_status = build_score_repr(_board)\n",
    "given_hints = [\n",
    "    GivenHint(word=\"Glue\", card_amount=2, team_color=_team),\n",
    "    GivenHint(word=\"travel\", card_amount=2, team_color=_team),\n",
    "]\n",
    "disallowed_prompt = build_disallowed_hints_repr(board=_board, hints=given_hints, extra=[\"amazing\"])\n",
    "allowed_words = build_allowed_cards_repr(board=_board, team_color=_team)\n",
    "avoid_words = build_cards_to_avoid_repr(board=_board, team_color=_team)\n",
    "assassin_repr = build_assassin_repr(board=_board)\n",
    "command_prompt = (\n",
    "    f\"{score_status} {team_prompt} {allowed_words} {avoid_words} {assassin_repr} {disallowed_prompt} {turn_command}\"\n",
    ")\n",
    "messages = [\n",
    "    # {\"role\": \"system\", \"content\": short_instructions},\n",
    "    # {\"role\": \"system\", \"content\": board_repr},\n",
    "    # TODO: Add all the hints and guesses given so far\n",
    "    {\"role\": \"user\", \"content\": command_prompt},\n",
    "]"
   ]
  },
  {
   "cell_type": "code",
   "execution_count": 94,
   "metadata": {
    "collapsed": false
   },
   "outputs": [
    {
     "name": "stdout",
     "output_type": "stream",
     "text": [
      "{\n",
      "  \"choices\": [\n",
      "    {\n",
      "      \"finish_reason\": \"stop\",\n",
      "      \"index\": 0,\n",
      "      \"message\": {\n",
      "        \"content\": \"{\\\"word\\\": \\\"journey\\\", \\\"referred_cards\\\": [\\\"path\\\", \\\"motion\\\"]}\",\n",
      "        \"role\": \"assistant\"\n",
      "      }\n",
      "    }\n",
      "  ],\n",
      "  \"created\": 1680865410,\n",
      "  \"id\": \"chatcmpl-72eAMBcxcL6pkQjN9p9gQ1AaNHFCd\",\n",
      "  \"model\": \"gpt-3.5-turbo-0301\",\n",
      "  \"object\": \"chat.completion\",\n",
      "  \"usage\": {\n",
      "    \"completion_tokens\": 18,\n",
      "    \"prompt_tokens\": 204,\n",
      "    \"total_tokens\": 222\n",
      "  }\n",
      "}\n"
     ]
    }
   ],
   "source": [
    "completion = openai.ChatCompletion.create(model=\"gpt-3.5-turbo\", messages=messages)\n",
    "print(completion)"
   ]
  },
  {
   "cell_type": "code",
   "execution_count": 50,
   "metadata": {},
   "outputs": [
    {
     "name": "stdout",
     "output_type": "stream",
     "text": [
      "+-----------+------------+---------------+-----------+-------------+\n",
      "| ‎🟥 bottle | ‎🟦 admire  |    ‎🟦 poll    |  ‎🟥 warm  | ‎🟥 routine  |\n",
      "+-----------+------------+---------------+-----------+-------------+\n",
      "| ‎🟥 famous |  ‎🟦 phase  |    ‎💀 warn    |  ‎🟦 beer  |   ‎🟦 path   |\n",
      "+-----------+------------+---------------+-----------+-------------+\n",
      "| ‎🟦 motion | ‎🟦 miracle | ‎🟥 politician | ‎⬜ peace  |   ‎⬜ tool   |\n",
      "+-----------+------------+---------------+-----------+-------------+\n",
      "|  ‎🟦 door  |  ‎⬜ ghost  |    ‎⬜ park    | ‎⬜ youth  | ‎⬜ abortion |\n",
      "+-----------+------------+---------------+-----------+-------------+\n",
      "|  ‎🟥 car   | ‎🟦 string  |   ‎🟥 apple    | ‎⬜ soviet |   ‎🟥 vote   |\n",
      "+-----------+------------+---------------+-----------+-------------+\n"
     ]
    }
   ],
   "source": [
    "print(_board.printable_string)"
   ]
  },
  {
   "cell_type": "code",
   "execution_count": null,
   "metadata": {
    "collapsed": false
   },
   "outputs": [],
   "source": []
  }
 ],
 "metadata": {
  "kernelspec": {
   "display_name": "Python 3 (ipykernel)",
   "language": "python",
   "name": "python3"
  },
  "language_info": {
   "codemirror_mode": {
    "name": "ipython",
    "version": 3
   },
   "file_extension": ".py",
   "mimetype": "text/x-python",
   "name": "python",
   "nbconvert_exporter": "python",
   "pygments_lexer": "ipython3",
   "version": "3.8.10"
  }
 },
 "nbformat": 4,
 "nbformat_minor": 1
}
